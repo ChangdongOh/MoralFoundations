{
 "cells": [
  {
   "cell_type": "code",
   "execution_count": null,
   "metadata": {
    "collapsed": false
   },
   "outputs": [],
   "source": [
    "# -*- coding: utf-8 -*-\n",
    "\"\"\"\n",
    "Created on Fri Nov 25 00:53:47 2016\n",
    "\n",
    "@author: Changdong Oh\n",
    "\"\"\"\n",
    "\n",
    "\n",
    "import requests\n",
    "import re\n",
    "import time\n",
    "from bs4 import BeautifulSoup\n",
    "\n",
    "\n",
    "def urlparser(year, page):\n",
    "    headers={'Content-Type':'application/x-www-form-urlencoded',\n",
    "    'Host':'www.saenuriparty.kr',\n",
    "    'Origin':'http://www.saenuriparty.kr',\n",
    "    'Referer':'http://www.saenuriparty.kr/web/news/briefing/delegateBriefing/mainDelegateBriefingView.do',\n",
    "    'Upgrade-Insecure-Requests':'1',\n",
    "    'User-Agent':'Mozilla/5.0 (Windows NT 10.0; Win64; x64) AppleWebKit/537.36 (KHTML, like Gecko) Chrome/55.0.2883.59 Safari/537.36'}\n",
    "    payload={'srchYear':str(year),\n",
    "             'searchCondition':'1',\n",
    "             'viewType':'L',\n",
    "             'pageIndex':str(page)}\n",
    "    url='http://www.saenuriparty.kr/web/news/briefing/delegateBriefing/mainDelegateBriefingView.do'\n",
    "    soup=BeautifulSoup(requests.post(url, headers=headers,data=payload).text,'lxml')\n",
    "    pageurl_list= ['http://www.saenuriparty.kr/web/news/briefing/delegateBriefing/readDelegateBriefingView.do?bbsId='+i.find('a')['onclick'][10:-3] for i in soup.find_all('td',class_='subject')]\n",
    "    if soup.find('div',class_='board_paging').find('a',attrs={'onclick':\"_getList({0});return false; \".format(str(page+1))})==None:\n",
    "        more=False\n",
    "    else: more=True\n",
    "    return pageurl_list, more\n",
    "    \n",
    "    \n",
    "def article(url):\n",
    "    #print(url)\n",
    "    soup=BeautifulSoup(requests.get(url).text,'lxml')\n",
    "    date=soup.find('td',class_='date').find('span').text\n",
    "    article=soup.find('div',class_='editor_cont').text\n",
    "    article=re.sub(\"(\\d+)[.]\\s+(\\d+)[.]\\s+(\\d+)\",r\"\\1년 \\2월 \\3일\", article)\n",
    "    article=re.sub('[^가-힣]+',' ',article)\n",
    "    if '년 월 일' in article:\n",
    "        if len(re.split('년 월 일', article))>2:\n",
    "            article_new=''\n",
    "            for i in re.split('년 월 일', article)[0:-1]:\n",
    "                article_new+=i\n",
    "            article=article_new\n",
    "            #print(article)\n",
    "        else: article=re.split('년 월 일', article)[-2]\n",
    "    #print([date,article])\n",
    "    return [url, date,article]\n",
    "    \n",
    "for year in range(2013, 2017):\n",
    "    import csv\n",
    "    with open('새누리{0}.csv'.format(str(year)),'w', encoding='UTF8', newline='') as f:\n",
    "        w=csv.writer(f)\n",
    "        more=True\n",
    "        page=1\n",
    "        while more==True:\n",
    "            url_list, more=urlparser(year, page)\n",
    "            for url in url_list:\n",
    "                w.writerow(article(url))\n",
    "                time.sleep(2)\n",
    "            page+=1\n",
    "    "
   ]
  },
  {
   "cell_type": "code",
   "execution_count": null,
   "metadata": {
    "collapsed": true
   },
   "outputs": [],
   "source": []
  }
 ],
 "metadata": {
  "anaconda-cloud": {},
  "kernelspec": {
   "display_name": "Python [Root]",
   "language": "python",
   "name": "Python [Root]"
  },
  "language_info": {
   "codemirror_mode": {
    "name": "ipython",
    "version": 3
   },
   "file_extension": ".py",
   "mimetype": "text/x-python",
   "name": "python",
   "nbconvert_exporter": "python",
   "pygments_lexer": "ipython3",
   "version": "3.5.2"
  }
 },
 "nbformat": 4,
 "nbformat_minor": 0
}
